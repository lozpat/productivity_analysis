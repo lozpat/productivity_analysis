{
 "cells": [
  {
   "cell_type": "markdown",
   "id": "d56777db",
   "metadata": {},
   "source": [
    "This cell imports the necessary libraries"
   ]
  },
  {
   "cell_type": "code",
   "execution_count": 1,
   "id": "6fa46429",
   "metadata": {},
   "outputs": [],
   "source": [
    "import pandas as pd\n",
    "import os\n",
    "from datetime import datetime\n",
    "import re\n",
    "import seaborn as sns\n",
    "import matplotlib.pyplot as plt"
   ]
  },
  {
   "cell_type": "markdown",
   "id": "0d4eb4cd",
   "metadata": {},
   "source": [
    "This cell gets the current working directory, where you should save the csv file you want to analyse"
   ]
  },
  {
   "cell_type": "code",
   "execution_count": 2,
   "id": "fd242619",
   "metadata": {},
   "outputs": [],
   "source": [
    "cwd = os.getcwd()"
   ]
  },
  {
   "cell_type": "markdown",
   "id": "f5b5a448",
   "metadata": {},
   "source": [
    "Enter the file name here:"
   ]
  },
  {
   "cell_type": "code",
   "execution_count": 3,
   "id": "dbcfb128",
   "metadata": {},
   "outputs": [],
   "source": [
    "results_log = \"Results log.csv\""
   ]
  },
  {
   "cell_type": "markdown",
   "id": "dc0571cb",
   "metadata": {},
   "source": [
    "This cell creates the directory of the file we will read"
   ]
  },
  {
   "cell_type": "code",
   "execution_count": 4,
   "id": "aa58ed5e",
   "metadata": {},
   "outputs": [],
   "source": [
    "directory = os.path.join(cwd, results_log)"
   ]
  },
  {
   "cell_type": "markdown",
   "id": "60926e2d",
   "metadata": {},
   "source": [
    "This cell reads in the csv files and creates a DataFrame (pandas)"
   ]
  },
  {
   "cell_type": "code",
   "execution_count": 5,
   "id": "3cb2d078",
   "metadata": {},
   "outputs": [],
   "source": [
    "results_df = pd.read_csv(directory)"
   ]
  },
  {
   "cell_type": "markdown",
   "id": "45095fe6",
   "metadata": {},
   "source": [
    "This cell formats the data from the 'Date' column to extract YYYYMMDD to year = YYYY, month = MM, day = DD and adds 3 columns to the end with these values"
   ]
  },
  {
   "cell_type": "code",
   "execution_count": 6,
   "id": "8d312d96",
   "metadata": {},
   "outputs": [],
   "source": [
    "results_df[\"year\"] = results_df[\"Date\"].map(str).str[:4]\n",
    "results_df[\"month\"] = results_df[\"Date\"].map(str).str[4:6]\n",
    "results_df[\"day\"] = results_df[\"Date\"].map(str).str[6:]"
   ]
  },
  {
   "cell_type": "markdown",
   "id": "128dc79b",
   "metadata": {},
   "source": [
    "This cell removes underscores from the video time values, and adds another column to the end with these values"
   ]
  },
  {
   "cell_type": "code",
   "execution_count": 7,
   "id": "ca54c550",
   "metadata": {},
   "outputs": [],
   "source": [
    "results_df[\"time\"] = pd.DataFrame(results_df[\"Video time\"].map(str).str.replace(\"_\",\"\"))"
   ]
  },
  {
   "cell_type": "markdown",
   "id": "0eb43e6f",
   "metadata": {},
   "source": [
    "This cell formats the data from the 'Video time' column to extract HHMMSS to hour = HH, minute = MM, second = SS and adds 3 columns to the end with these values"
   ]
  },
  {
   "cell_type": "code",
   "execution_count": 8,
   "id": "1c4813fb",
   "metadata": {},
   "outputs": [],
   "source": [
    "results_df[\"hour\"] = results_df[\"time\"].map(str).str[:2]\n",
    "results_df[\"minute\"] = results_df[\"time\"].map(str).str[2:4]\n",
    "results_df[\"second\"] = results_df[\"time\"].map(str).str[4:]"
   ]
  },
  {
   "cell_type": "markdown",
   "id": "91cf3f01",
   "metadata": {},
   "source": [
    "Where the number of characters in the Video time column is more than 6, this row of data will be removed (dropped) from the DataFrame"
   ]
  },
  {
   "cell_type": "code",
   "execution_count": 9,
   "id": "ea5644a2",
   "metadata": {},
   "outputs": [],
   "source": [
    "results_df = results_df.drop(results_df[results_df[\"time\"].str.len() > 6].index)"
   ]
  },
  {
   "cell_type": "markdown",
   "id": "d180869c",
   "metadata": {},
   "source": [
    "A final column with title \"Data aware\" is added, in which the Year, Month, Day values are added to form a datetime datatype"
   ]
  },
  {
   "cell_type": "code",
   "execution_count": 10,
   "id": "17fc8dd4",
   "metadata": {},
   "outputs": [],
   "source": [
    "results_df[\"Date aware\"] = pd.to_datetime(results_df[\"year\"] + results_df[\"month\"] + results_df[\"day\"])"
   ]
  },
  {
   "cell_type": "markdown",
   "id": "d3ab7c94",
   "metadata": {},
   "source": [
    "A plot of the data is generated, using the \"Date aware\" data with 1 value added for each row of data"
   ]
  },
  {
   "cell_type": "code",
   "execution_count": 26,
   "id": "aec2ad58",
   "metadata": {},
   "outputs": [
    {
     "data": {
      "image/png": "[encoded data removed]",
      "text/plain": [
       "<Figure size 432x288 with 1 Axes>"
      ]
     },
     "metadata": {},
     "output_type": "display_data"
    }
   ],
   "source": [
    "sns.set_theme(style=\"white\", palette=\"Set2\")\n",
    "productivity = sns.scatterplot(data=results_df, x=\"Date aware\", y=range(0,161))\n",
    "productivity.set(xlabel =\"Date\", ylabel = \"\", title ='My productivity')\n",
    "productivity.tick_params(axis='x', rotation=45)"
   ]
  },
  {
   "cell_type": "markdown",
   "id": "8d90e310",
   "metadata": {},
   "source": [
    "The data in the hour column is converted to an integer type. The number of hours above and below 13 (1PM) are counted"
   ]
  },
  {
   "cell_type": "code",
   "execution_count": 12,
   "id": "95db1a1f",
   "metadata": {},
   "outputs": [],
   "source": [
    "results_df[\"hour\"] = results_df[\"hour\"].astype(int)\n",
    "morning = results_df[results_df[\"hour\"] < 13].count()\n",
    "afternoon = results_df[results_df[\"hour\"] > 13].count()\n",
    "morning = morning[0]\n",
    "afternoon = afternoon[0]"
   ]
  },
  {
   "cell_type": "markdown",
   "id": "e583b079",
   "metadata": {},
   "source": [
    "A list of the morning and afternoon values is created. A list of the labels of the data is created."
   ]
  },
  {
   "cell_type": "code",
   "execution_count": 13,
   "id": "8a189782",
   "metadata": {},
   "outputs": [],
   "source": [
    "compare_morn_aft = [morning, afternoon]\n",
    "labels = [\"Morning\", \"Afternoon\"]"
   ]
  },
  {
   "cell_type": "markdown",
   "id": "79617b08",
   "metadata": {},
   "source": [
    "The colour palette of the pie chart is set. The date, labels, colours, percentage display, start angle are set."
   ]
  },
  {
   "cell_type": "code",
   "execution_count": 28,
   "id": "157a6e17",
   "metadata": {},
   "outputs": [
    {
     "data": {
      "image/png": "[encoded data removed]",
      "text/plain": [
       "<Figure size 432x288 with 1 Axes>"
      ]
     },
     "metadata": {},
     "output_type": "display_data"
    }
   ],
   "source": [
    "colors = sns.color_palette(\"Set2\")[0:3]\n",
    "plt.pie(compare_morn_aft, labels = labels, colors = colors, autopct='%.0f%%', startangle=0)\n",
    "plt.show()"
   ]
  },
  {
   "cell_type": "code",
   "execution_count": null,
   "id": "1ba6c7ef",
   "metadata": {},
   "outputs": [],
   "source": []
  }
 ],
 "metadata": {
  "kernelspec": {
   "display_name": "Python 3 (ipykernel)",
   "language": "python",
   "name": "python3"
  },
  "language_info": {
   "codemirror_mode": {
    "name": "ipython",
    "version": 3
   },
   "file_extension": ".py",
   "mimetype": "text/x-python",
   "name": "python",
   "nbconvert_exporter": "python",
   "pygments_lexer": "ipython3",
   "version": "3.9.7"
  }
 },
 "nbformat": 4,
 "nbformat_minor": 5
}
