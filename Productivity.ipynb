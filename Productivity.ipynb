{
 "cells": [
  {
   "cell_type": "markdown",
   "id": "d56777db",
   "metadata": {},
   "source": [
    "This cell imports the necessary libraries"
   ]
  },
  {
   "cell_type": "code",
   "execution_count": 1,
   "id": "6fa46429",
   "metadata": {},
   "outputs": [],
   "source": [
    "import pandas as pd\n",
    "import os\n",
    "from datetime import datetime\n",
    "import re\n",
    "import seaborn as sns\n",
    "import matplotlib.pyplot as plt\n",
    "import numpy as np"
   ]
  },
  {
   "cell_type": "markdown",
   "id": "0d4eb4cd",
   "metadata": {},
   "source": [
    "This cell gets the current working directory, where you should save the csv file you want to analyse"
   ]
  },
  {
   "cell_type": "code",
   "execution_count": 2,
   "id": "fd242619",
   "metadata": {},
   "outputs": [],
   "source": [
    "cwd = os.getcwd()"
   ]
  },
  {
   "cell_type": "markdown",
   "id": "f5b5a448",
   "metadata": {},
   "source": [
    "Enter the file name here:"
   ]
  },
  {
   "cell_type": "code",
   "execution_count": 3,
   "id": "dbcfb128",
   "metadata": {},
   "outputs": [],
   "source": [
    "results_log = \"Results log.csv\""
   ]
  },
  {
   "cell_type": "markdown",
   "id": "dc0571cb",
   "metadata": {},
   "source": [
    "This cell creates the directory of the file we will read"
   ]
  },
  {
   "cell_type": "code",
   "execution_count": 4,
   "id": "aa58ed5e",
   "metadata": {},
   "outputs": [],
   "source": [
    "directory = os.path.join(cwd, results_log)"
   ]
  },
  {
   "cell_type": "markdown",
   "id": "60926e2d",
   "metadata": {},
   "source": [
    "This cell reads in the csv files and creates a DataFrame (pandas)"
   ]
  },
  {
   "cell_type": "code",
   "execution_count": 5,
   "id": "3cb2d078",
   "metadata": {},
   "outputs": [],
   "source": [
    "results_df = pd.read_csv(directory)"
   ]
  },
  {
   "cell_type": "markdown",
   "id": "45095fe6",
   "metadata": {},
   "source": [
    "This cell formats the data from the 'Date' column to extract YYYYMMDD to year = YYYY, month = MM, day = DD and adds 3 columns to the end with these values"
   ]
  },
  {
   "cell_type": "code",
   "execution_count": 6,
   "id": "8d312d96",
   "metadata": {},
   "outputs": [],
   "source": [
    "results_df[\"year\"] = results_df[\"Date\"].map(str).str[:4]\n",
    "results_df[\"month\"] = results_df[\"Date\"].map(str).str[4:6]\n",
    "results_df[\"day\"] = results_df[\"Date\"].map(str).str[6:]"
   ]
  },
  {
   "cell_type": "markdown",
   "id": "128dc79b",
   "metadata": {},
   "source": [
    "This cell removes underscores from the video time values, and adds another column to the end with these values"
   ]
  },
  {
   "cell_type": "code",
   "execution_count": 7,
   "id": "ca54c550",
   "metadata": {},
   "outputs": [],
   "source": [
    "results_df[\"time\"] = pd.DataFrame(results_df[\"Video time\"].map(str).str.replace(\"_\",\"\"))"
   ]
  },
  {
   "cell_type": "markdown",
   "id": "0eb43e6f",
   "metadata": {},
   "source": [
    "This cell formats the data from the 'Video time' column to extract HHMMSS to hour = HH, minute = MM, second = SS and adds 3 columns to the end with these values"
   ]
  },
  {
   "cell_type": "code",
   "execution_count": 8,
   "id": "1c4813fb",
   "metadata": {},
   "outputs": [],
   "source": [
    "results_df[\"hour\"] = results_df[\"time\"].map(str).str[:2]\n",
    "results_df[\"minute\"] = results_df[\"time\"].map(str).str[2:4]\n",
    "results_df[\"second\"] = results_df[\"time\"].map(str).str[4:]"
   ]
  },
  {
   "cell_type": "markdown",
   "id": "91cf3f01",
   "metadata": {},
   "source": [
    "Where the number of characters in the Video time column is more than 6, this row of data will be removed (dropped) from the DataFrame"
   ]
  },
  {
   "cell_type": "code",
   "execution_count": 9,
   "id": "ea5644a2",
   "metadata": {},
   "outputs": [],
   "source": [
    "results_df = results_df.drop(results_df[results_df[\"time\"].str.len() > 6].index)\n",
    "count_row = results_df.shape[0]"
   ]
  },
  {
   "cell_type": "markdown",
   "id": "d180869c",
   "metadata": {},
   "source": [
    "A final column with title \"Data aware\" is added, in which the Year, Month, Day values are added to form a datetime datatype"
   ]
  },
  {
   "cell_type": "code",
   "execution_count": 10,
   "id": "17fc8dd4",
   "metadata": {},
   "outputs": [],
   "source": [
    "results_df[\"Date aware\"] = pd.to_datetime(results_df[\"year\"] + results_df[\"month\"] + results_df[\"day\"])\n",
    "results_df[\"Row\"] = range(0,count_row)"
   ]
  },
  {
   "cell_type": "markdown",
   "id": "d3ab7c94",
   "metadata": {},
   "source": [
    "A plot of the data is generated, using the \"Date aware\" data with 1 value added for each row of data"
   ]
  },
  {
   "cell_type": "code",
   "execution_count": 11,
   "id": "aec2ad58",
   "metadata": {},
   "outputs": [
    {
     "data": {
      "image/png": "[encoded data removed]",
      "text/plain": [
       "<Figure size 432x288 with 1 Axes>"
      ]
     },
     "metadata": {},
     "output_type": "display_data"
    }
   ],
   "source": [
    "sns.set_theme(style=\"white\", palette=\"Set2\")\n",
    "productivity = sns.scatterplot(data=results_df, x=\"Date aware\", y=\"Row\")\n",
    "productivity.set(xlabel =\"Date\", ylabel = \"Cumulative experiments\", title ='My productivity')\n",
    "productivity.tick_params(axis='x', rotation=45)"
   ]
  },
  {
   "cell_type": "code",
   "execution_count": 12,
   "id": "f845a558",
   "metadata": {},
   "outputs": [
    {
     "data": {
      "text/html": [
       "<div>\n",
       "<style scoped>\n",
       "    .dataframe tbody tr th:only-of-type {\n",
       "        vertical-align: middle;\n",
       "    }\n",
       "\n",
       "    .dataframe tbody tr th {\n",
       "        vertical-align: top;\n",
       "    }\n",
       "\n",
       "    .dataframe thead th {\n",
       "        text-align: right;\n",
       "    }\n",
       "</style>\n",
       "<table border=\"1\" class=\"dataframe\">\n",
       "  <thead>\n",
       "    <tr style=\"text-align: right;\">\n",
       "      <th></th>\n",
       "      <th>Month (folder)</th>\n",
       "      <th>Date</th>\n",
       "      <th>Video time</th>\n",
       "      <th>Droplet</th>\n",
       "      <th>Surface</th>\n",
       "      <th>Frame rate</th>\n",
       "      <th>ms per frame</th>\n",
       "      <th>Zoom cal</th>\n",
       "      <th>Pulse profile</th>\n",
       "      <th>RH</th>\n",
       "      <th>...</th>\n",
       "      <th>Notes</th>\n",
       "      <th>year</th>\n",
       "      <th>month</th>\n",
       "      <th>day</th>\n",
       "      <th>time</th>\n",
       "      <th>hour</th>\n",
       "      <th>minute</th>\n",
       "      <th>second</th>\n",
       "      <th>Date aware</th>\n",
       "      <th>Row</th>\n",
       "    </tr>\n",
       "  </thead>\n",
       "  <tbody>\n",
       "    <tr>\n",
       "      <th>0</th>\n",
       "      <td>January</td>\n",
       "      <td>20220127</td>\n",
       "      <td>_135658</td>\n",
       "      <td>water</td>\n",
       "      <td>Teflon</td>\n",
       "      <td>100000</td>\n",
       "      <td>0.01</td>\n",
       "      <td>3.0</td>\n",
       "      <td>2.7 V, 60 us</td>\n",
       "      <td>X</td>\n",
       "      <td>...</td>\n",
       "      <td>Proof of concept of observing oscillation freq...</td>\n",
       "      <td>2022</td>\n",
       "      <td>01</td>\n",
       "      <td>27</td>\n",
       "      <td>135658</td>\n",
       "      <td>13</td>\n",
       "      <td>56</td>\n",
       "      <td>58</td>\n",
       "      <td>2022-01-27</td>\n",
       "      <td>0</td>\n",
       "    </tr>\n",
       "    <tr>\n",
       "      <th>1</th>\n",
       "      <td>January</td>\n",
       "      <td>20220131</td>\n",
       "      <td>_152234</td>\n",
       "      <td>water</td>\n",
       "      <td>Borosilicate</td>\n",
       "      <td>100000</td>\n",
       "      <td>0.01</td>\n",
       "      <td>2.0</td>\n",
       "      <td>2.7 V, 60 us</td>\n",
       "      <td>X</td>\n",
       "      <td>...</td>\n",
       "      <td>Compare to Tanner's law model</td>\n",
       "      <td>2022</td>\n",
       "      <td>01</td>\n",
       "      <td>31</td>\n",
       "      <td>152234</td>\n",
       "      <td>15</td>\n",
       "      <td>22</td>\n",
       "      <td>34</td>\n",
       "      <td>2022-01-31</td>\n",
       "      <td>1</td>\n",
       "    </tr>\n",
       "    <tr>\n",
       "      <th>2</th>\n",
       "      <td>January</td>\n",
       "      <td>20220131</td>\n",
       "      <td>_152512</td>\n",
       "      <td>water</td>\n",
       "      <td>Polylysine</td>\n",
       "      <td>100000</td>\n",
       "      <td>0.01</td>\n",
       "      <td>2.0</td>\n",
       "      <td>2.7 V, 60 us</td>\n",
       "      <td>X</td>\n",
       "      <td>...</td>\n",
       "      <td>Compare to Tanner's law model</td>\n",
       "      <td>2022</td>\n",
       "      <td>01</td>\n",
       "      <td>31</td>\n",
       "      <td>152512</td>\n",
       "      <td>15</td>\n",
       "      <td>25</td>\n",
       "      <td>12</td>\n",
       "      <td>2022-01-31</td>\n",
       "      <td>2</td>\n",
       "    </tr>\n",
       "    <tr>\n",
       "      <th>4</th>\n",
       "      <td>February</td>\n",
       "      <td>20220221</td>\n",
       "      <td>150427</td>\n",
       "      <td>water</td>\n",
       "      <td>Teflon</td>\n",
       "      <td>100000</td>\n",
       "      <td>0.01</td>\n",
       "      <td>2.0</td>\n",
       "      <td>Unknown</td>\n",
       "      <td>X</td>\n",
       "      <td>...</td>\n",
       "      <td>Good data showing calc of water ST, size depen...</td>\n",
       "      <td>2022</td>\n",
       "      <td>02</td>\n",
       "      <td>21</td>\n",
       "      <td>150427</td>\n",
       "      <td>15</td>\n",
       "      <td>04</td>\n",
       "      <td>27</td>\n",
       "      <td>2022-02-21</td>\n",
       "      <td>3</td>\n",
       "    </tr>\n",
       "    <tr>\n",
       "      <th>5</th>\n",
       "      <td>February</td>\n",
       "      <td>20220221</td>\n",
       "      <td>150754</td>\n",
       "      <td>water</td>\n",
       "      <td>Teflon</td>\n",
       "      <td>100000</td>\n",
       "      <td>0.01</td>\n",
       "      <td>2.0</td>\n",
       "      <td>Unknown</td>\n",
       "      <td>X</td>\n",
       "      <td>...</td>\n",
       "      <td>Good data showing calc of water ST, size depen...</td>\n",
       "      <td>2022</td>\n",
       "      <td>02</td>\n",
       "      <td>21</td>\n",
       "      <td>150754</td>\n",
       "      <td>15</td>\n",
       "      <td>07</td>\n",
       "      <td>54</td>\n",
       "      <td>2022-02-21</td>\n",
       "      <td>4</td>\n",
       "    </tr>\n",
       "    <tr>\n",
       "      <th>...</th>\n",
       "      <td>...</td>\n",
       "      <td>...</td>\n",
       "      <td>...</td>\n",
       "      <td>...</td>\n",
       "      <td>...</td>\n",
       "      <td>...</td>\n",
       "      <td>...</td>\n",
       "      <td>...</td>\n",
       "      <td>...</td>\n",
       "      <td>...</td>\n",
       "      <td>...</td>\n",
       "      <td>...</td>\n",
       "      <td>...</td>\n",
       "      <td>...</td>\n",
       "      <td>...</td>\n",
       "      <td>...</td>\n",
       "      <td>...</td>\n",
       "      <td>...</td>\n",
       "      <td>...</td>\n",
       "      <td>...</td>\n",
       "      <td>...</td>\n",
       "    </tr>\n",
       "    <tr>\n",
       "      <th>567</th>\n",
       "      <td>November</td>\n",
       "      <td>20221122</td>\n",
       "      <td>111655</td>\n",
       "      <td>Artificial saliva + 0.1 mucin + 0.1 silica NPs</td>\n",
       "      <td>Borosilicate</td>\n",
       "      <td>100000</td>\n",
       "      <td>0.01</td>\n",
       "      <td>2.0</td>\n",
       "      <td>A: 4.5v, 20us, D: 3V, 35us</td>\n",
       "      <td>-</td>\n",
       "      <td>...</td>\n",
       "      <td>Spreading on borosilicate</td>\n",
       "      <td>2022</td>\n",
       "      <td>11</td>\n",
       "      <td>22</td>\n",
       "      <td>111655</td>\n",
       "      <td>11</td>\n",
       "      <td>16</td>\n",
       "      <td>55</td>\n",
       "      <td>2022-11-22</td>\n",
       "      <td>544</td>\n",
       "    </tr>\n",
       "    <tr>\n",
       "      <th>568</th>\n",
       "      <td>November</td>\n",
       "      <td>20221122</td>\n",
       "      <td>162344</td>\n",
       "      <td>Artificial saliva</td>\n",
       "      <td>Borosilicate</td>\n",
       "      <td>100000</td>\n",
       "      <td>0.01</td>\n",
       "      <td>2.0</td>\n",
       "      <td>A: 4.5v, 20us, D: 3V, 35us</td>\n",
       "      <td>-</td>\n",
       "      <td>...</td>\n",
       "      <td>Spreading on borosilicate</td>\n",
       "      <td>2022</td>\n",
       "      <td>11</td>\n",
       "      <td>22</td>\n",
       "      <td>162344</td>\n",
       "      <td>16</td>\n",
       "      <td>23</td>\n",
       "      <td>44</td>\n",
       "      <td>2022-11-22</td>\n",
       "      <td>545</td>\n",
       "    </tr>\n",
       "    <tr>\n",
       "      <th>569</th>\n",
       "      <td>November</td>\n",
       "      <td>20221122</td>\n",
       "      <td>164332</td>\n",
       "      <td>Artificial saliva + 0.1 mucin</td>\n",
       "      <td>Borosilicate</td>\n",
       "      <td>100000</td>\n",
       "      <td>0.01</td>\n",
       "      <td>2.0</td>\n",
       "      <td>A: 4.5v, 20us, D: 3V, 35us</td>\n",
       "      <td>-</td>\n",
       "      <td>...</td>\n",
       "      <td>Spreading on borosilicate</td>\n",
       "      <td>2022</td>\n",
       "      <td>11</td>\n",
       "      <td>22</td>\n",
       "      <td>164332</td>\n",
       "      <td>16</td>\n",
       "      <td>43</td>\n",
       "      <td>32</td>\n",
       "      <td>2022-11-22</td>\n",
       "      <td>546</td>\n",
       "    </tr>\n",
       "    <tr>\n",
       "      <th>570</th>\n",
       "      <td>November</td>\n",
       "      <td>20221122</td>\n",
       "      <td>162344</td>\n",
       "      <td>Artificial saliva</td>\n",
       "      <td>Borosilicate</td>\n",
       "      <td>100000</td>\n",
       "      <td>0.01</td>\n",
       "      <td>2.0</td>\n",
       "      <td>A: 4.5v, 20us, D: 3V, 35us</td>\n",
       "      <td>-</td>\n",
       "      <td>...</td>\n",
       "      <td>Spreading on borosilicate</td>\n",
       "      <td>2022</td>\n",
       "      <td>11</td>\n",
       "      <td>22</td>\n",
       "      <td>162344</td>\n",
       "      <td>16</td>\n",
       "      <td>23</td>\n",
       "      <td>44</td>\n",
       "      <td>2022-11-22</td>\n",
       "      <td>547</td>\n",
       "    </tr>\n",
       "    <tr>\n",
       "      <th>571</th>\n",
       "      <td>November</td>\n",
       "      <td>20221122</td>\n",
       "      <td>164332</td>\n",
       "      <td>Artificial saliva + 0.1 mucin</td>\n",
       "      <td>Borosilicate</td>\n",
       "      <td>100000</td>\n",
       "      <td>0.01</td>\n",
       "      <td>2.0</td>\n",
       "      <td>A: 4.5v, 20us, D: 3V, 35us</td>\n",
       "      <td>-</td>\n",
       "      <td>...</td>\n",
       "      <td>Spreading on borosilicate</td>\n",
       "      <td>2022</td>\n",
       "      <td>11</td>\n",
       "      <td>22</td>\n",
       "      <td>164332</td>\n",
       "      <td>16</td>\n",
       "      <td>43</td>\n",
       "      <td>32</td>\n",
       "      <td>2022-11-22</td>\n",
       "      <td>548</td>\n",
       "    </tr>\n",
       "  </tbody>\n",
       "</table>\n",
       "<p>549 rows × 21 columns</p>\n",
       "</div>"
      ],
      "text/plain": [
       "    Month (folder)      Date Video time  \\\n",
       "0          January  20220127    _135658   \n",
       "1          January  20220131    _152234   \n",
       "2          January  20220131    _152512   \n",
       "4         February  20220221     150427   \n",
       "5         February  20220221     150754   \n",
       "..             ...       ...        ...   \n",
       "567       November  20221122     111655   \n",
       "568       November  20221122     162344   \n",
       "569       November  20221122     164332   \n",
       "570       November  20221122     162344   \n",
       "571       November  20221122     164332   \n",
       "\n",
       "                                            Droplet       Surface Frame rate  \\\n",
       "0                                             water        Teflon     100000   \n",
       "1                                             water  Borosilicate     100000   \n",
       "2                                             water    Polylysine     100000   \n",
       "4                                             water        Teflon     100000   \n",
       "5                                             water        Teflon     100000   \n",
       "..                                              ...           ...        ...   \n",
       "567  Artificial saliva + 0.1 mucin + 0.1 silica NPs  Borosilicate     100000   \n",
       "568                               Artificial saliva  Borosilicate     100000   \n",
       "569                   Artificial saliva + 0.1 mucin  Borosilicate     100000   \n",
       "570                               Artificial saliva  Borosilicate     100000   \n",
       "571                   Artificial saliva + 0.1 mucin  Borosilicate     100000   \n",
       "\n",
       "     ms per frame  Zoom cal               Pulse profile RH  ...  \\\n",
       "0            0.01       3.0                2.7 V, 60 us  X  ...   \n",
       "1            0.01       2.0                2.7 V, 60 us  X  ...   \n",
       "2            0.01       2.0                2.7 V, 60 us  X  ...   \n",
       "4            0.01       2.0                     Unknown  X  ...   \n",
       "5            0.01       2.0                     Unknown  X  ...   \n",
       "..            ...       ...                         ... ..  ...   \n",
       "567          0.01       2.0  A: 4.5v, 20us, D: 3V, 35us  -  ...   \n",
       "568          0.01       2.0  A: 4.5v, 20us, D: 3V, 35us  -  ...   \n",
       "569          0.01       2.0  A: 4.5v, 20us, D: 3V, 35us  -  ...   \n",
       "570          0.01       2.0  A: 4.5v, 20us, D: 3V, 35us  -  ...   \n",
       "571          0.01       2.0  A: 4.5v, 20us, D: 3V, 35us  -  ...   \n",
       "\n",
       "                                                 Notes  year month day  \\\n",
       "0    Proof of concept of observing oscillation freq...  2022    01  27   \n",
       "1                        Compare to Tanner's law model  2022    01  31   \n",
       "2                        Compare to Tanner's law model  2022    01  31   \n",
       "4    Good data showing calc of water ST, size depen...  2022    02  21   \n",
       "5    Good data showing calc of water ST, size depen...  2022    02  21   \n",
       "..                                                 ...   ...   ...  ..   \n",
       "567                          Spreading on borosilicate  2022    11  22   \n",
       "568                          Spreading on borosilicate  2022    11  22   \n",
       "569                          Spreading on borosilicate  2022    11  22   \n",
       "570                          Spreading on borosilicate  2022    11  22   \n",
       "571                          Spreading on borosilicate  2022    11  22   \n",
       "\n",
       "       time hour minute second Date aware  Row  \n",
       "0    135658   13     56     58 2022-01-27    0  \n",
       "1    152234   15     22     34 2022-01-31    1  \n",
       "2    152512   15     25     12 2022-01-31    2  \n",
       "4    150427   15     04     27 2022-02-21    3  \n",
       "5    150754   15     07     54 2022-02-21    4  \n",
       "..      ...  ...    ...    ...        ...  ...  \n",
       "567  111655   11     16     55 2022-11-22  544  \n",
       "568  162344   16     23     44 2022-11-22  545  \n",
       "569  164332   16     43     32 2022-11-22  546  \n",
       "570  162344   16     23     44 2022-11-22  547  \n",
       "571  164332   16     43     32 2022-11-22  548  \n",
       "\n",
       "[549 rows x 21 columns]"
      ]
     },
     "execution_count": 12,
     "metadata": {},
     "output_type": "execute_result"
    }
   ],
   "source": [
    "results_df"
   ]
  },
  {
   "cell_type": "code",
   "execution_count": 13,
   "id": "228ed5bc",
   "metadata": {},
   "outputs": [
    {
     "data": {
      "text/plain": [
       "array([ 3.92147218e-01, -7.92925256e+06])"
      ]
     },
     "execution_count": 13,
     "metadata": {},
     "output_type": "execute_result"
    }
   ],
   "source": [
    "#fig, ax =plt.subplots()\n",
    "#ax.plot(results_df[\"Date\"], results_df[\"Row\"], \"o\")\n",
    "poly_fit = np.polyfit(results_df[\"Date\"], results_df[\"Row\"], deg=1)\n",
    "poly_fit"
   ]
  },
  {
   "cell_type": "markdown",
   "id": "8d90e310",
   "metadata": {},
   "source": [
    "The data in the hour column is converted to an integer type. The number of hours above and below 13 (1PM) are counted"
   ]
  },
  {
   "cell_type": "code",
   "execution_count": 14,
   "id": "95db1a1f",
   "metadata": {},
   "outputs": [],
   "source": [
    "results_df[\"hour\"] = results_df[\"hour\"].astype(int)\n",
    "morning = results_df[results_df[\"hour\"] < 13].count()\n",
    "afternoon = results_df[results_df[\"hour\"] > 13].count()\n",
    "morning = morning[0]\n",
    "afternoon = afternoon[0]"
   ]
  },
  {
   "cell_type": "markdown",
   "id": "e583b079",
   "metadata": {},
   "source": [
    "A list of the morning and afternoon values is created. A list of the labels of the data is created."
   ]
  },
  {
   "cell_type": "code",
   "execution_count": 15,
   "id": "8a189782",
   "metadata": {},
   "outputs": [],
   "source": [
    "compare_morn_aft = [morning, afternoon]\n",
    "labels = [\"Morning\", \"Afternoon\"]"
   ]
  },
  {
   "cell_type": "markdown",
   "id": "79617b08",
   "metadata": {},
   "source": [
    "The colour palette of the pie chart is set. The date, labels, colours, percentage display, start angle are set."
   ]
  },
  {
   "cell_type": "code",
   "execution_count": 16,
   "id": "157a6e17",
   "metadata": {},
   "outputs": [
    {
     "data": {
      "image/png": "[encoded data removed]",
      "text/plain": [
       "<Figure size 432x288 with 1 Axes>"
      ]
     },
     "metadata": {},
     "output_type": "display_data"
    }
   ],
   "source": [
    "colors = sns.color_palette(\"Set2\")[0:3]\n",
    "plt.pie(compare_morn_aft, labels = labels, colors = colors, autopct='%.0f%%', startangle=0)\n",
    "plt.show()"
   ]
  },
  {
   "cell_type": "code",
   "execution_count": 17,
   "id": "1ba6c7ef",
   "metadata": {},
   "outputs": [
    {
     "data": {
      "text/plain": [
       "549"
      ]
     },
     "execution_count": 17,
     "metadata": {},
     "output_type": "execute_result"
    }
   ],
   "source": [
    "count_row"
   ]
  },
  {
   "cell_type": "code",
   "execution_count": null,
   "id": "de181b7a",
   "metadata": {},
   "outputs": [],
   "source": []
  }
 ],
 "metadata": {
  "kernelspec": {
   "display_name": "Python 3 (ipykernel)",
   "language": "python",
   "name": "python3"
  },
  "language_info": {
   "codemirror_mode": {
    "name": "ipython",
    "version": 3
   },
   "file_extension": ".py",
   "mimetype": "text/x-python",
   "name": "python",
   "nbconvert_exporter": "python",
   "pygments_lexer": "ipython3",
   "version": "3.9.7"
  }
 },
 "nbformat": 4,
 "nbformat_minor": 5
}
